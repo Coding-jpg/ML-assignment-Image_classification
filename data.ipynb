{
 "cells": [
  {
   "cell_type": "code",
   "execution_count": 36,
   "metadata": {},
   "outputs": [],
   "source": [
    "import numpy as np\n",
    "from collections import Counter\n",
    "from keras.models import Sequential\n",
    "from keras.layers import Conv2D, MaxPooling2D, Flatten\n",
    "import matplotlib.pyplot as plt"
   ]
  },
  {
   "cell_type": "markdown",
   "metadata": {},
   "source": [
    "### Data load and explore\n",
    "1. shape and size view\n",
    "2. nan data check\n",
    "3. class "
   ]
  },
  {
   "cell_type": "code",
   "execution_count": 27,
   "metadata": {},
   "outputs": [
    {
     "name": "stdout",
     "output_type": "stream",
     "text": [
      "Train size: 18928\n",
      "Test size: 4732\n",
      "Image shape: (28, 28)\n",
      "\n",
      "Nan value exists detect\n",
      "X_train: False\n",
      "y_train: False\n",
      "X_test: False\n",
      "y_test: False\n",
      "\n",
      "num of class: Counter({6: 4201, 10: 2196, 0: 1741, 9: 1682, 5: 1651, 4: 1562, 8: 1546, 7: 1519, 3: 978, 1: 936, 2: 916})\n",
      "<class 'list'>\n"
     ]
    }
   ],
   "source": [
    "# loading\n",
    "X_train = np.load('dataset/Assignment2Data/X_train.npy')\n",
    "X_test = np.load('dataset/Assignment2Data/X_test.npy')\n",
    "y_train = np.load('dataset/Assignment2Data/y_train.npy')\n",
    "y_test = np.load('dataset/Assignment2Data/y_test.npy')\n",
    "\n",
    "# data size and shape\n",
    "print(f\"Train size: {X_train.shape[0]}\\nTest size: {X_test.shape[0]}\\nImage shape: {X_test.shape[1:]}\\n\")\n",
    "\n",
    "# Check nan values\n",
    "def check_nan(data) -> bool:\n",
    "    return np.isnan(data).any()\n",
    "\n",
    "print(f\"Nan value exists detect\\nX_train: {check_nan(X_train)}\\ny_train: {check_nan(y_train)}\\nX_test: {check_nan(X_test)}\\ny_test: {check_nan(y_test)}\\n\")\n",
    "\n",
    "# num of class\n",
    "cnt_class = Counter(y_train)\n",
    "print(f\"num of class: {cnt_class}\")\n",
    "\n"
   ]
  },
  {
   "cell_type": "code",
   "execution_count": 48,
   "metadata": {},
   "outputs": [
    {
     "name": "stdout",
     "output_type": "stream",
     "text": [
      "\u001b[1m 19/592\u001b[0m \u001b[37m━━━━━━━━━━━━━━━━━━━━\u001b[0m \u001b[1m1s\u001b[0m 3ms/step  "
     ]
    },
    {
     "name": "stderr",
     "output_type": "stream",
     "text": [
      "/home/lxw/miniconda3/envs/ML_Lab/lib/python3.10/site-packages/keras/src/layers/convolutional/base_conv.py:107: UserWarning: Do not pass an `input_shape`/`input_dim` argument to a layer. When using Sequential models, prefer using an `Input(shape)` object as the first layer in the model instead.\n",
      "  super().__init__(activity_regularizer=activity_regularizer, **kwargs)\n"
     ]
    },
    {
     "name": "stdout",
     "output_type": "stream",
     "text": [
      "\u001b[1m592/592\u001b[0m \u001b[32m━━━━━━━━━━━━━━━━━━━━\u001b[0m\u001b[37m\u001b[0m \u001b[1m1s\u001b[0m 2ms/step\n"
     ]
    },
    {
     "name": "stderr",
     "output_type": "stream",
     "text": [
      "/tmp/ipykernel_889/4085262070.py:35: RuntimeWarning: divide by zero encountered in divide\n",
      "  similarity_matrics[i][j] = 1 / distance\n"
     ]
    },
    {
     "data": {
      "image/png": "[encoded data removed]",
      "text/plain": [
       "<Figure size 640x480 with 2 Axes>"
      ]
     },
     "metadata": {},
     "output_type": "display_data"
    }
   ],
   "source": [
    "# extract feature for class similarity check\n",
    "\n",
    "input_shape = (28, 28, 1)\n",
    "\n",
    "model = Sequential()\n",
    "\n",
    "model.add(Conv2D(32, kernel_size=(3, 3), activation='relu', input_shape=input_shape))\n",
    "model.add(MaxPooling2D(pool_size=(2, 2)))\n",
    "\n",
    "model.add(Conv2D(64, kernel_size=(3, 3), activation='relu'))\n",
    "model.add(MaxPooling2D(pool_size=(2, 2)))\n",
    "\n",
    "model.add(Flatten())\n",
    "\n",
    "all_features = model.predict(X_train)\n",
    "\n",
    "# average feature for each class\n",
    "feature_dict = {key:[] for key in cnt_class.keys()}\n",
    "class_avg_feature = {key:None for key in cnt_class.keys()}\n",
    "\n",
    "for idx, feature in enumerate(all_features):\n",
    "    feature_dict[y_train[idx]].append(feature)\n",
    "\n",
    "for key, features in feature_dict.items():\n",
    "    class_avg_feature[key] = np.mean(features, axis=0)\n",
    "\n",
    "# calculate similarity\n",
    "similarity_matrics = np.zeros((11, 11))\n",
    "\n",
    "sigma = 1.0 # similarity function param\n",
    "\n",
    "for i in range(11):\n",
    "    for j in range(11):\n",
    "        distance = np.linalg.norm(class_avg_feature[i] - class_avg_feature[j])\n",
    "        similarity_matrics[i][j] = 1 / distance\n",
    "\n",
    "# hot map visual\n",
    "plt.imshow(similarity_matrics, cmap='hot', interpolation='nearest')\n",
    "plt.colorbar()\n",
    "plt.title('Similarity Matrix Heatmap')\n",
    "plt.show()  \n"
   ]
  },
  {
   "cell_type": "code",
   "execution_count": null,
   "metadata": {},
   "outputs": [],
   "source": [
    "# Pre-process"
   ]
  },
  {
   "cell_type": "code",
   "execution_count": null,
   "metadata": {},
   "outputs": [],
   "source": [
    "# Model build\n",
    "\n"
   ]
  }
 ],
 "metadata": {
  "kernelspec": {
   "display_name": "ML_Lab",
   "language": "python",
   "name": "python3"
  },
  "language_info": {
   "codemirror_mode": {
    "name": "ipython",
    "version": 3
   },
   "file_extension": ".py",
   "mimetype": "text/x-python",
   "name": "python",
   "nbconvert_exporter": "python",
   "pygments_lexer": "ipython3",
   "version": "3.10.14"
  }
 },
 "nbformat": 4,
 "nbformat_minor": 2
}
