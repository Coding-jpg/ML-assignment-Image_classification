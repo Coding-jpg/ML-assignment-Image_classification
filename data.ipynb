{
 "cells": [
  {
   "cell_type": "code",
   "execution_count": 6,
   "metadata": {},
   "outputs": [],
   "source": [
    "import numpy as np"
   ]
  },
  {
   "cell_type": "code",
   "execution_count": 10,
   "metadata": {},
   "outputs": [
    {
     "name": "stdout",
     "output_type": "stream",
     "text": [
      "Train size: 18928\n",
      "Test size: 4732\n",
      "Image size: (28, 28)\n"
     ]
    }
   ],
   "source": [
    "# Data load and explore\n",
    "X_train = np.load('dataset/Assignment2Data/X_train.npy')\n",
    "X_test = np.load('dataset/Assignment2Data/X_test.npy')\n",
    "y_train = np.load('dataset/Assignment2Data/y_train.npy')\n",
    "y_test = np.load('dataset/Assignment2Data/y_test.npy')\n",
    "\n",
    "print(f\"Train size: {X_train.shape[0]}\\nTest size: {X_test.shape[0]}\\nImage size: {X_test.shape[1:]}\")\n"
   ]
  }
 ],
 "metadata": {
  "kernelspec": {
   "display_name": "ML_Lab",
   "language": "python",
   "name": "python3"
  },
  "language_info": {
   "codemirror_mode": {
    "name": "ipython",
    "version": 3
   },
   "file_extension": ".py",
   "mimetype": "text/x-python",
   "name": "python",
   "nbconvert_exporter": "python",
   "pygments_lexer": "ipython3",
   "version": "3.10.14"
  }
 },
 "nbformat": 4,
 "nbformat_minor": 2
}
